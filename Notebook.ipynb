{
 "cells": [
  {
   "cell_type": "code",
   "execution_count": 1,
   "metadata": {},
   "outputs": [],
   "source": [
    "import numpy as np\n",
    "import CcaGrid"
   ]
  },
  {
   "cell_type": "code",
   "execution_count": 2,
   "metadata": {},
   "outputs": [],
   "source": [
    "NEIGHBORHOOD_MOORE = 0\n",
    "NEIGHBORHOOD_NEUMANN = 1\n",
    "\n",
    "num_columns = 10\n",
    "num_rows = 10\n",
    "num_states = 3\n",
    "neighborhood_range = 1\n",
    "neighboorhood_type = NEIGHBORHOOD_MOORE"
   ]
  },
  {
   "cell_type": "markdown",
   "metadata": {},
   "source": [
    "### Create states"
   ]
  },
  {
   "cell_type": "markdown",
   "metadata": {},
   "source": [
    "create array of 100 states"
   ]
  },
  {
   "cell_type": "code",
   "execution_count": 76,
   "metadata": {},
   "outputs": [],
   "source": [
    "def randomStates(rows, columns, states):\n",
    "    grid = np.random.rand(num_rows*num_columns) * (states-1)\n",
    "    grid = grid.round()\n",
    "    return grid"
   ]
  },
  {
   "cell_type": "code",
   "execution_count": 77,
   "metadata": {},
   "outputs": [],
   "source": [
    "grid = randomStates(num_rows, num_columns, num_states)"
   ]
  },
  {
   "cell_type": "code",
   "execution_count": 78,
   "metadata": {},
   "outputs": [
    {
     "data": {
      "text/plain": [
       "array([2., 1., 2., 1., 1., 1., 0., 2., 1., 1., 1., 1., 1., 1., 1., 2., 2.,\n",
       "       2., 2., 1., 1., 1., 0., 1., 1., 0., 0., 0., 1., 1., 2., 0., 1., 0.,\n",
       "       2., 0., 0., 0., 0., 2., 2., 1., 1., 1., 0., 0., 2., 1., 1., 1., 1.,\n",
       "       1., 2., 2., 1., 2., 1., 1., 2., 0., 0., 2., 1., 1., 1., 2., 1., 0.,\n",
       "       1., 0., 0., 1., 0., 2., 1., 1., 0., 2., 0., 0., 0., 0., 0., 2., 1.,\n",
       "       0., 1., 1., 0., 1., 0., 2., 0., 2., 1., 1., 2., 1., 0., 2.])"
      ]
     },
     "execution_count": 78,
     "metadata": {},
     "output_type": "execute_result"
    }
   ],
   "source": [
    "grid"
   ]
  },
  {
   "cell_type": "markdown",
   "metadata": {},
   "source": [
    "### Create positions"
   ]
  },
  {
   "cell_type": "code",
   "execution_count": 6,
   "metadata": {},
   "outputs": [],
   "source": [
    "def positions(rows, columns):\n",
    "    return np.asarray(list(range(0, num_rows*num_columns)))"
   ]
  },
  {
   "cell_type": "code",
   "execution_count": 7,
   "metadata": {},
   "outputs": [],
   "source": [
    "positions = positions(num_rows, num_columns)"
   ]
  },
  {
   "cell_type": "code",
   "execution_count": 8,
   "metadata": {},
   "outputs": [
    {
     "data": {
      "text/plain": [
       "array([ 0,  1,  2,  3,  4,  5,  6,  7,  8,  9, 10, 11, 12, 13, 14, 15, 16,\n",
       "       17, 18, 19, 20, 21, 22, 23, 24, 25, 26, 27, 28, 29, 30, 31, 32, 33,\n",
       "       34, 35, 36, 37, 38, 39, 40, 41, 42, 43, 44, 45, 46, 47, 48, 49, 50,\n",
       "       51, 52, 53, 54, 55, 56, 57, 58, 59, 60, 61, 62, 63, 64, 65, 66, 67,\n",
       "       68, 69, 70, 71, 72, 73, 74, 75, 76, 77, 78, 79, 80, 81, 82, 83, 84,\n",
       "       85, 86, 87, 88, 89, 90, 91, 92, 93, 94, 95, 96, 97, 98, 99])"
      ]
     },
     "execution_count": 8,
     "metadata": {},
     "output_type": "execute_result"
    }
   ],
   "source": [
    "positions"
   ]
  },
  {
   "cell_type": "markdown",
   "metadata": {},
   "source": [
    "### Get position from coordinate"
   ]
  },
  {
   "cell_type": "code",
   "execution_count": 65,
   "metadata": {},
   "outputs": [],
   "source": [
    "def coordinate_to_position(coordinate, total_cols):\n",
    "    return (coordinate[0]*total_cols) + coordinate[1]"
   ]
  },
  {
   "cell_type": "markdown",
   "metadata": {},
   "source": [
    "### Get coordinate from position"
   ]
  },
  {
   "cell_type": "code",
   "execution_count": 66,
   "metadata": {},
   "outputs": [],
   "source": [
    "def position_to_coordinate(position, total_cols):\n",
    "    return (int(position/total_cols)//1, position%total_cols)"
   ]
  },
  {
   "cell_type": "markdown",
   "metadata": {},
   "source": [
    "### Create Moore neighborhood"
   ]
  },
  {
   "cell_type": "markdown",
   "metadata": {},
   "source": [
    "** For cell (5, 5) **"
   ]
  },
  {
   "cell_type": "code",
   "execution_count": 10,
   "metadata": {},
   "outputs": [],
   "source": [
    "current_row = 5\n",
    "current_column = 5"
   ]
  },
  {
   "cell_type": "code",
   "execution_count": 11,
   "metadata": {},
   "outputs": [],
   "source": [
    "def wrap_coordinate(coordinate, num_rows, num_columns):\n",
    "    return (coordinate[0] % num_rows, coordinate[1] % num_columns)"
   ]
  },
  {
   "cell_type": "code",
   "execution_count": 67,
   "metadata": {},
   "outputs": [],
   "source": [
    "def moore_neighborhood_positions(row, column, size, num_rows, num_columns):\n",
    "    coordinates = []\n",
    "    for row_offset in range(-size, size+1):\n",
    "        for column_offset in range(-size, size+1):\n",
    "            if (row_offset != 0) | (column_offset != 0):\n",
    "                coordinates.append((row+row_offset, column+column_offset))\n",
    "            \n",
    "    return list(coordinate_to_position(wrap_coordinate(x, num_rows, num_columns), num_columns) for x in coordinates)"
   ]
  },
  {
   "cell_type": "code",
   "execution_count": 68,
   "metadata": {},
   "outputs": [],
   "source": [
    "neighborhood_positions = moore_neighborhood_positions(current_row, current_column, 1, num_rows, num_columns)"
   ]
  },
  {
   "cell_type": "markdown",
   "metadata": {},
   "source": [
    "### Create neighborhood mask"
   ]
  },
  {
   "cell_type": "code",
   "execution_count": 69,
   "metadata": {},
   "outputs": [],
   "source": [
    "def neighborhood_mask(neighborhood_positions, positions):\n",
    "    return np.asarray(list(x not in neighborhood_positions for x in positions))"
   ]
  },
  {
   "cell_type": "code",
   "execution_count": 70,
   "metadata": {},
   "outputs": [],
   "source": [
    "neighbor_grid = neighborhood_mask(neighborhood_positions, positions)"
   ]
  },
  {
   "cell_type": "code",
   "execution_count": 18,
   "metadata": {},
   "outputs": [
    {
     "data": {
      "text/plain": [
       "array([[ True,  True,  True,  True,  True,  True,  True,  True,  True,\n",
       "         True],\n",
       "       [ True,  True,  True,  True,  True,  True,  True,  True,  True,\n",
       "         True],\n",
       "       [ True,  True,  True,  True,  True,  True,  True,  True,  True,\n",
       "         True],\n",
       "       [ True,  True,  True,  True,  True,  True,  True,  True,  True,\n",
       "         True],\n",
       "       [ True,  True,  True,  True, False, False, False,  True,  True,\n",
       "         True],\n",
       "       [ True,  True,  True,  True, False,  True, False,  True,  True,\n",
       "         True],\n",
       "       [ True,  True,  True,  True, False, False, False,  True,  True,\n",
       "         True],\n",
       "       [ True,  True,  True,  True,  True,  True,  True,  True,  True,\n",
       "         True],\n",
       "       [ True,  True,  True,  True,  True,  True,  True,  True,  True,\n",
       "         True],\n",
       "       [ True,  True,  True,  True,  True,  True,  True,  True,  True,\n",
       "         True]])"
      ]
     },
     "execution_count": 18,
     "metadata": {},
     "output_type": "execute_result"
    }
   ],
   "source": [
    "np.asarray(neighbor_grid).reshape(10, 10)"
   ]
  },
  {
   "cell_type": "markdown",
   "metadata": {},
   "source": [
    "### Use mask to query neighborhood"
   ]
  },
  {
   "cell_type": "code",
   "execution_count": 19,
   "metadata": {},
   "outputs": [],
   "source": [
    "neighbor_states = np.ma.masked_array(grid, neighbor_grid)"
   ]
  },
  {
   "cell_type": "code",
   "execution_count": 20,
   "metadata": {},
   "outputs": [
    {
     "data": {
      "text/plain": [
       "masked_array(data=[--, --, --, --, --, --, --, --, --, --, --, --, --, --,\n",
       "                   --, --, --, --, --, --, --, --, --, --, --, --, --, --,\n",
       "                   --, --, --, --, --, --, --, --, --, --, --, --, --, --,\n",
       "                   --, --, 1.0, 1.0, 1.0, --, --, --, --, --, --, --, 1.0,\n",
       "                   --, 1.0, --, --, --, --, --, --, --, 2.0, 2.0, 1.0, --,\n",
       "                   --, --, --, --, --, --, --, --, --, --, --, --, --, --,\n",
       "                   --, --, --, --, --, --, --, --, --, --, --, --, --, --,\n",
       "                   --, --, --, --],\n",
       "             mask=[ True,  True,  True,  True,  True,  True,  True,  True,\n",
       "                    True,  True,  True,  True,  True,  True,  True,  True,\n",
       "                    True,  True,  True,  True,  True,  True,  True,  True,\n",
       "                    True,  True,  True,  True,  True,  True,  True,  True,\n",
       "                    True,  True,  True,  True,  True,  True,  True,  True,\n",
       "                    True,  True,  True,  True, False, False, False,  True,\n",
       "                    True,  True,  True,  True,  True,  True, False,  True,\n",
       "                   False,  True,  True,  True,  True,  True,  True,  True,\n",
       "                   False, False, False,  True,  True,  True,  True,  True,\n",
       "                    True,  True,  True,  True,  True,  True,  True,  True,\n",
       "                    True,  True,  True,  True,  True,  True,  True,  True,\n",
       "                    True,  True,  True,  True,  True,  True,  True,  True,\n",
       "                    True,  True,  True,  True],\n",
       "       fill_value=1e+20)"
      ]
     },
     "execution_count": 20,
     "metadata": {},
     "output_type": "execute_result"
    }
   ],
   "source": [
    "neighbor_states"
   ]
  },
  {
   "cell_type": "code",
   "execution_count": 21,
   "metadata": {},
   "outputs": [
    {
     "data": {
      "text/plain": [
       "array([1., 1., 1., 1., 1., 2., 2., 1.])"
      ]
     },
     "execution_count": 21,
     "metadata": {},
     "output_type": "execute_result"
    }
   ],
   "source": [
    "neighbor_states.compressed()"
   ]
  },
  {
   "cell_type": "code",
   "execution_count": 22,
   "metadata": {},
   "outputs": [
    {
     "data": {
      "text/plain": [
       "6"
      ]
     },
     "execution_count": 22,
     "metadata": {},
     "output_type": "execute_result"
    }
   ],
   "source": [
    "(neighbor_states.compressed() == 1).sum()"
   ]
  },
  {
   "cell_type": "code",
   "execution_count": 23,
   "metadata": {},
   "outputs": [
    {
     "data": {
      "text/plain": [
       "2"
      ]
     },
     "execution_count": 23,
     "metadata": {},
     "output_type": "execute_result"
    }
   ],
   "source": [
    "(neighbor_states.compressed() == 2).sum()"
   ]
  },
  {
   "cell_type": "markdown",
   "metadata": {},
   "source": [
    "### Create all neighborhood masks"
   ]
  },
  {
   "cell_type": "code",
   "execution_count": 45,
   "metadata": {},
   "outputs": [],
   "source": [
    "def moore_neighborhood_size(size):\n",
    "    return ((2*size) + 1) ** 2 - 1"
   ]
  },
  {
   "cell_type": "code",
   "execution_count": 72,
   "metadata": {},
   "outputs": [],
   "source": [
    "position_neighborhood_positions = np.empty((num_rows*num_columns, moore_neighborhood_size(1)));\n",
    "for x in positions:\n",
    "    coordinate = position_to_coordinate(x, num_columns)\n",
    "    position_neighborhood_positions[x] = moore_neighborhood_positions(coordinate[0], coordinate[1], 1, num_rows, num_columns)"
   ]
  },
  {
   "cell_type": "code",
   "execution_count": 73,
   "metadata": {},
   "outputs": [
    {
     "data": {
      "text/plain": [
       "array([[99., 90., 91.,  9.,  1., 19., 10., 11.],\n",
       "       [90., 91., 92.,  0.,  2., 10., 11., 12.],\n",
       "       [91., 92., 93.,  1.,  3., 11., 12., 13.],\n",
       "       [92., 93., 94.,  2.,  4., 12., 13., 14.],\n",
       "       [93., 94., 95.,  3.,  5., 13., 14., 15.],\n",
       "       [94., 95., 96.,  4.,  6., 14., 15., 16.],\n",
       "       [95., 96., 97.,  5.,  7., 15., 16., 17.],\n",
       "       [96., 97., 98.,  6.,  8., 16., 17., 18.],\n",
       "       [97., 98., 99.,  7.,  9., 17., 18., 19.],\n",
       "       [98., 99., 90.,  8.,  0., 18., 19., 10.],\n",
       "       [ 9.,  0.,  1., 19., 11., 29., 20., 21.],\n",
       "       [ 0.,  1.,  2., 10., 12., 20., 21., 22.],\n",
       "       [ 1.,  2.,  3., 11., 13., 21., 22., 23.],\n",
       "       [ 2.,  3.,  4., 12., 14., 22., 23., 24.],\n",
       "       [ 3.,  4.,  5., 13., 15., 23., 24., 25.],\n",
       "       [ 4.,  5.,  6., 14., 16., 24., 25., 26.],\n",
       "       [ 5.,  6.,  7., 15., 17., 25., 26., 27.],\n",
       "       [ 6.,  7.,  8., 16., 18., 26., 27., 28.],\n",
       "       [ 7.,  8.,  9., 17., 19., 27., 28., 29.],\n",
       "       [ 8.,  9.,  0., 18., 10., 28., 29., 20.],\n",
       "       [19., 10., 11., 29., 21., 39., 30., 31.],\n",
       "       [10., 11., 12., 20., 22., 30., 31., 32.],\n",
       "       [11., 12., 13., 21., 23., 31., 32., 33.],\n",
       "       [12., 13., 14., 22., 24., 32., 33., 34.],\n",
       "       [13., 14., 15., 23., 25., 33., 34., 35.],\n",
       "       [14., 15., 16., 24., 26., 34., 35., 36.],\n",
       "       [15., 16., 17., 25., 27., 35., 36., 37.],\n",
       "       [16., 17., 18., 26., 28., 36., 37., 38.],\n",
       "       [17., 18., 19., 27., 29., 37., 38., 39.],\n",
       "       [18., 19., 10., 28., 20., 38., 39., 30.],\n",
       "       [29., 20., 21., 39., 31., 49., 40., 41.],\n",
       "       [20., 21., 22., 30., 32., 40., 41., 42.],\n",
       "       [21., 22., 23., 31., 33., 41., 42., 43.],\n",
       "       [22., 23., 24., 32., 34., 42., 43., 44.],\n",
       "       [23., 24., 25., 33., 35., 43., 44., 45.],\n",
       "       [24., 25., 26., 34., 36., 44., 45., 46.],\n",
       "       [25., 26., 27., 35., 37., 45., 46., 47.],\n",
       "       [26., 27., 28., 36., 38., 46., 47., 48.],\n",
       "       [27., 28., 29., 37., 39., 47., 48., 49.],\n",
       "       [28., 29., 20., 38., 30., 48., 49., 40.],\n",
       "       [39., 30., 31., 49., 41., 59., 50., 51.],\n",
       "       [30., 31., 32., 40., 42., 50., 51., 52.],\n",
       "       [31., 32., 33., 41., 43., 51., 52., 53.],\n",
       "       [32., 33., 34., 42., 44., 52., 53., 54.],\n",
       "       [33., 34., 35., 43., 45., 53., 54., 55.],\n",
       "       [34., 35., 36., 44., 46., 54., 55., 56.],\n",
       "       [35., 36., 37., 45., 47., 55., 56., 57.],\n",
       "       [36., 37., 38., 46., 48., 56., 57., 58.],\n",
       "       [37., 38., 39., 47., 49., 57., 58., 59.],\n",
       "       [38., 39., 30., 48., 40., 58., 59., 50.],\n",
       "       [49., 40., 41., 59., 51., 69., 60., 61.],\n",
       "       [40., 41., 42., 50., 52., 60., 61., 62.],\n",
       "       [41., 42., 43., 51., 53., 61., 62., 63.],\n",
       "       [42., 43., 44., 52., 54., 62., 63., 64.],\n",
       "       [43., 44., 45., 53., 55., 63., 64., 65.],\n",
       "       [44., 45., 46., 54., 56., 64., 65., 66.],\n",
       "       [45., 46., 47., 55., 57., 65., 66., 67.],\n",
       "       [46., 47., 48., 56., 58., 66., 67., 68.],\n",
       "       [47., 48., 49., 57., 59., 67., 68., 69.],\n",
       "       [48., 49., 40., 58., 50., 68., 69., 60.],\n",
       "       [59., 50., 51., 69., 61., 79., 70., 71.],\n",
       "       [50., 51., 52., 60., 62., 70., 71., 72.],\n",
       "       [51., 52., 53., 61., 63., 71., 72., 73.],\n",
       "       [52., 53., 54., 62., 64., 72., 73., 74.],\n",
       "       [53., 54., 55., 63., 65., 73., 74., 75.],\n",
       "       [54., 55., 56., 64., 66., 74., 75., 76.],\n",
       "       [55., 56., 57., 65., 67., 75., 76., 77.],\n",
       "       [56., 57., 58., 66., 68., 76., 77., 78.],\n",
       "       [57., 58., 59., 67., 69., 77., 78., 79.],\n",
       "       [58., 59., 50., 68., 60., 78., 79., 70.],\n",
       "       [69., 60., 61., 79., 71., 89., 80., 81.],\n",
       "       [60., 61., 62., 70., 72., 80., 81., 82.],\n",
       "       [61., 62., 63., 71., 73., 81., 82., 83.],\n",
       "       [62., 63., 64., 72., 74., 82., 83., 84.],\n",
       "       [63., 64., 65., 73., 75., 83., 84., 85.],\n",
       "       [64., 65., 66., 74., 76., 84., 85., 86.],\n",
       "       [65., 66., 67., 75., 77., 85., 86., 87.],\n",
       "       [66., 67., 68., 76., 78., 86., 87., 88.],\n",
       "       [67., 68., 69., 77., 79., 87., 88., 89.],\n",
       "       [68., 69., 60., 78., 70., 88., 89., 80.],\n",
       "       [79., 70., 71., 89., 81., 99., 90., 91.],\n",
       "       [70., 71., 72., 80., 82., 90., 91., 92.],\n",
       "       [71., 72., 73., 81., 83., 91., 92., 93.],\n",
       "       [72., 73., 74., 82., 84., 92., 93., 94.],\n",
       "       [73., 74., 75., 83., 85., 93., 94., 95.],\n",
       "       [74., 75., 76., 84., 86., 94., 95., 96.],\n",
       "       [75., 76., 77., 85., 87., 95., 96., 97.],\n",
       "       [76., 77., 78., 86., 88., 96., 97., 98.],\n",
       "       [77., 78., 79., 87., 89., 97., 98., 99.],\n",
       "       [78., 79., 70., 88., 80., 98., 99., 90.],\n",
       "       [89., 80., 81., 99., 91.,  9.,  0.,  1.],\n",
       "       [80., 81., 82., 90., 92.,  0.,  1.,  2.],\n",
       "       [81., 82., 83., 91., 93.,  1.,  2.,  3.],\n",
       "       [82., 83., 84., 92., 94.,  2.,  3.,  4.],\n",
       "       [83., 84., 85., 93., 95.,  3.,  4.,  5.],\n",
       "       [84., 85., 86., 94., 96.,  4.,  5.,  6.],\n",
       "       [85., 86., 87., 95., 97.,  5.,  6.,  7.],\n",
       "       [86., 87., 88., 96., 98.,  6.,  7.,  8.],\n",
       "       [87., 88., 89., 97., 99.,  7.,  8.,  9.],\n",
       "       [88., 89., 80., 98., 90.,  8.,  9.,  0.]])"
      ]
     },
     "execution_count": 73,
     "metadata": {},
     "output_type": "execute_result"
    }
   ],
   "source": [
    "position_neighborhood_positions"
   ]
  },
  {
   "cell_type": "markdown",
   "metadata": {},
   "source": [
    "### Next steps\n",
    "* Work with (views on) matrices\n",
    "* Only work in 1 dimension until it is time to visualize the grid"
   ]
  }
 ],
 "metadata": {
  "kernelspec": {
   "display_name": "Python 3",
   "language": "python",
   "name": "python3"
  },
  "language_info": {
   "codemirror_mode": {
    "name": "ipython",
    "version": 3
   },
   "file_extension": ".py",
   "mimetype": "text/x-python",
   "name": "python",
   "nbconvert_exporter": "python",
   "pygments_lexer": "ipython3",
   "version": "3.6.5"
  }
 },
 "nbformat": 4,
 "nbformat_minor": 2
}
